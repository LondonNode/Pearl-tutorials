{
  "nbformat": 4,
  "nbformat_minor": 0,
  "metadata": {
    "colab": {
      "name": "5. Settings.ipynb",
      "provenance": [],
      "authorship_tag": "ABX9TyNcW7Rbz+RoFKUyl1q/x3gB",
      "include_colab_link": true
    },
    "kernelspec": {
      "name": "python3",
      "display_name": "Python 3"
    },
    "language_info": {
      "name": "python"
    }
  },
  "cells": [
    {
      "cell_type": "markdown",
      "metadata": {
        "id": "view-in-github",
        "colab_type": "text"
      },
      "source": [
        "<a href=\"https://colab.research.google.com/github/LondonNode/Pearl-tutorials/blob/main/5_Settings.ipynb\" target=\"_parent\"><img src=\"https://colab.research.google.com/assets/colab-badge.svg\" alt=\"Open In Colab\"/></a>"
      ]
    },
    {
      "cell_type": "code",
      "execution_count": null,
      "metadata": {
        "id": "8kkqxo4nHC5E"
      },
      "outputs": [],
      "source": [
        "!pip install pearll"
      ]
    },
    {
      "cell_type": "markdown",
      "source": [
        "# Introduction\n",
        "\n",
        "Now we've gone through the main modules you'll be interacting with in Pearl, we can take a look at how you can configure them when initializing an agent via the settings objects. These allow us to group together parameters for each module.\n",
        "\n",
        "The settings are implemented as [dataclasses](https://docs.python.org/3/library/dataclasses.html), which are useful because they tell you exactly what should go in them and are formatted nicely when printed.\n",
        "\n",
        "Here is a [link](https://github.com/LondonNode/Pearl/blob/main/pearll/settings.py) to the file with all the settings defined. These have docstrings that should provide insight into what each one does. It was important to highlight this in its own tutorial since this is how agent behaviour is controlled!"
      ],
      "metadata": {
        "id": "FUgVG7-eHGaC"
      }
    },
    {
      "cell_type": "markdown",
      "source": [
        "# Settings\n",
        "\n",
        "The `Settings` dataclass acts as the base for all other settings objects."
      ],
      "metadata": {
        "id": "51TjrCswI_2M"
      }
    },
    {
      "cell_type": "code",
      "source": [
        "def f(a: int):\n",
        "  return a\n",
        "\n",
        "def g(a: int, b: str):\n",
        "  return b"
      ],
      "metadata": {
        "id": "SMrmKg3eKXcg"
      },
      "execution_count": 2,
      "outputs": []
    },
    {
      "cell_type": "code",
      "source": [
        "from pearll.settings import Settings\n",
        "\n",
        "from dataclasses import dataclass\n",
        "from typing import Optional\n",
        "\n",
        "\n",
        "@dataclass\n",
        "class YourSettings(Settings):\n",
        "  a: int\n",
        "  b: Optional[str] = None\n",
        "\n",
        "setting = YourSettings(a=3)\n",
        "print(f\"Setting after initialization: {setting}\")\n",
        "# filter_none() removes any None parameters and converts to a dictionary so\n",
        "# the parameters can be easily passed to their modules via **setting.\n",
        "setting = setting.filter_none()\n",
        "print(f\"Setting after filtering: {setting}\")\n",
        "\n",
        "# for example now suppose the functions f() and g() belong to the same\n",
        "# module hierarchy with some shared parameters. We want to define the setting\n",
        "# for f() though:\n",
        "print(f\"a = {f(**setting)}\")"
      ],
      "metadata": {
        "colab": {
          "base_uri": "https://localhost:8080/"
        },
        "id": "ewe_pg22HGFC",
        "outputId": "5e517a19-7246-42c6-a6c4-7b37abdce1a7"
      },
      "execution_count": 3,
      "outputs": [
        {
          "output_type": "stream",
          "name": "stdout",
          "text": [
            "Setting after initialization: YourSettings(a=3, b=None)\n",
            "Setting after filtering: {'a': 3}\n",
            "a = 3\n"
          ]
        }
      ]
    },
    {
      "cell_type": "markdown",
      "source": [
        "# Extending Implemented Settings\n",
        "\n",
        "If you've made your own instance of a module within Pearl (e.g. a new type of buffer), then you might have new parameters that you want to control at the agent level. This can be done by simply extending the existing settings object for that module. We'll continue with the example of a new buffer here, creating a settings object for the `HERBuffer` also implemented in Pearl."
      ],
      "metadata": {
        "id": "LadVcLmiMEHp"
      }
    },
    {
      "cell_type": "code",
      "source": [
        "# This is the actual BufferSettings implemented in Pearl, it only defines the\n",
        "# buffer size since the other initialization parameters are also passed to the\n",
        "# high level agent interface directly already (e.g. the gym environment).\n",
        " \n",
        "from pearll.settings import Settings\n",
        "\n",
        "from dataclasses import dataclass\n",
        "\n",
        "\n",
        "@dataclass\n",
        "class BufferSettings(Settings):\n",
        "  \"\"\"\n",
        "  Settings for buffers\n",
        "\n",
        "  :param buffer_size: max number of transitions to store at once in each environment\n",
        "  \"\"\"\n",
        "\n",
        "  buffer_size: int = int(1e6)"
      ],
      "metadata": {
        "id": "jLAHBHX9O71d"
      },
      "execution_count": 4,
      "outputs": []
    },
    {
      "cell_type": "code",
      "source": [
        "from pearll.settings import BufferSettings\n",
        "# HERBuffer is derived from BaseBuffer\n",
        "from pearll.buffers import HERBuffer\n",
        "\n",
        "from dataclasses import dataclass\n",
        "import gym\n",
        "\n",
        "\n",
        "env = gym.make(\"CartPole-v1\")\n",
        "\n",
        "# HERSettings is derived from BufferSettings\n",
        "@dataclass\n",
        "class HERSettings(BufferSettings):\n",
        "  goal_selection_strategy: str = \"future\"\n",
        "  n_sampled_goal: int = 4\n",
        "\n",
        "print(HERSettings())\n",
        "\n",
        "settings = HERSettings().filter_none()\n",
        "buffer = HERBuffer(env=env, **settings)"
      ],
      "metadata": {
        "colab": {
          "base_uri": "https://localhost:8080/"
        },
        "id": "7D6mxvfQJgO7",
        "outputId": "93a1c5ee-85d4-4ee6-9d65-9a6ea97fe738"
      },
      "execution_count": 5,
      "outputs": [
        {
          "output_type": "stream",
          "name": "stdout",
          "text": [
            "HERSettings(buffer_size=1000000, goal_selection_strategy='future', n_sampled_goal=4)\n"
          ]
        }
      ]
    },
    {
      "cell_type": "code",
      "source": [
        ""
      ],
      "metadata": {
        "id": "DkYp8FSxQD68"
      },
      "execution_count": 5,
      "outputs": []
    }
  ]
}